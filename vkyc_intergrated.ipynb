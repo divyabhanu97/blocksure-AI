{
 "cells": [
  {
   "cell_type": "code",
   "execution_count": 2,
   "id": "d3e965e0",
   "metadata": {},
   "outputs": [],
   "source": [
    "import cv2\n",
    "import os\n",
    "from PIL import Image"
   ]
  },
  {
   "cell_type": "code",
   "execution_count": 3,
   "id": "d59f1688",
   "metadata": {},
   "outputs": [],
   "source": [
    "cam_url = r\"C:\\Users\\M1061065\\OneDrive - Mindtree Limited\\Pictures\\Camera Roll\\WIN_20220104_16_19_32_Pro.mp4\"\n"
   ]
  },
  {
   "cell_type": "code",
   "execution_count": 4,
   "id": "aed8bb4f",
   "metadata": {},
   "outputs": [
    {
     "name": "stdout",
     "output_type": "stream",
     "text": [
      "Read a new frame:  True\n",
      "0\n",
      "Read a new frame:  True\n",
      "0.5\n",
      "Read a new frame:  True\n",
      "1.0\n",
      "Read a new frame:  True\n",
      "1.5\n",
      "Read a new frame:  True\n",
      "2.0\n",
      "Read a new frame:  True\n",
      "2.5\n",
      "Read a new frame:  True\n",
      "3.0\n",
      "Read a new frame:  True\n",
      "3.5\n",
      "Read a new frame:  True\n",
      "4.0\n",
      "Read a new frame:  True\n",
      "4.5\n",
      "Read a new frame:  True\n",
      "5.0\n",
      "Read a new frame:  True\n",
      "5.5\n",
      "Read a new frame:  True\n",
      "6.0\n",
      "Read a new frame:  True\n",
      "6.5\n",
      "Read a new frame:  True\n",
      "7.0\n",
      "Read a new frame:  True\n",
      "7.5\n"
     ]
    }
   ],
   "source": [
    "count = 0\n",
    "vidcap = cv2.VideoCapture(cam_url)\n",
    "success,image = vidcap.read()\n",
    "success = True\n",
    "fps = vidcap.get(cv2.CAP_PROP_FPS)\n",
    "frame_count = int(vidcap.get(cv2.CAP_PROP_FRAME_COUNT))\n",
    "duration = frame_count/fps\n",
    "while success:\n",
    "    vidcap.set(cv2.CAP_PROP_POS_MSEC,(count*1000))    # added this line \n",
    "    success,image = vidcap.read()\n",
    "    print ('Read a new frame: ', success)\n",
    "    print(count)\n",
    "    image = Image.fromarray(image.astype('uint8'), 'RGB')\n",
    "    image.save(\"data/frame\"+str(count)+\".jpg\")     # save frame as JPEG file\n",
    "    count = count + 0.5\n",
    "    if(count > (duration-0.5)):\n",
    "        success = False"
   ]
  },
  {
   "cell_type": "code",
   "execution_count": 5,
   "id": "33839ad1",
   "metadata": {},
   "outputs": [],
   "source": [
    "from azure.cognitiveservices.vision.customvision.training import CustomVisionTrainingClient\n",
    "from azure.cognitiveservices.vision.customvision.prediction import CustomVisionPredictionClient\n",
    "from azure.cognitiveservices.vision.customvision.training.models import ImageFileCreateBatch, ImageFileCreateEntry, Region\n",
    "from msrest.authentication import ApiKeyCredentials\n",
    "import os, time, uuid\n",
    "\n",
    "# Replace with valid values\n",
    "ENDPOINT = \"https://centralindia.api.cognitive.microsoft.com/\"\n",
    "training_key = \"c5a175b7f450425ba8df3e4e22c2ec6b\"\n",
    "prediction_key = \"e6ecd0955b824244a3d6483e5c7e1097\"\n",
    "prediction_resource_id = \"/subscriptions/0d16ec4a-eebf-44fa-8f1d-7803493f8199/resourceGroups/blockchain-group/providers/Microsoft.CognitiveServices/accounts/custom_vision_sk\"\n",
    "\n",
    "credentials = ApiKeyCredentials(in_headers={\"Training-key\": training_key})\n",
    "trainer = CustomVisionTrainingClient(ENDPOINT, credentials)\n",
    "prediction_credentials = ApiKeyCredentials(in_headers={\"Prediction-key\": prediction_key})\n",
    "predictor = CustomVisionPredictionClient(ENDPOINT, prediction_credentials)"
   ]
  },
  {
   "cell_type": "code",
   "execution_count": 6,
   "id": "cb4ed592",
   "metadata": {},
   "outputs": [],
   "source": [
    "publish_iteration_name = \"Iteration3\"\n",
    "confidence = 0 \n",
    "aadhar_card_frame = \"none\"\n",
    "project_id = \"c61fcd17-ee71-4e68-8ea4-a47b73cdc7f2\"\n",
    "\n",
    "\n",
    "path = r\"C:\\Users\\M1061065\\OneDrive - Mindtree Limited\\Documents\\autenticate_vdo\\data\"\n",
    "for image_path in os.listdir(path):\n",
    "\n",
    "    input_path = os.path.join(path, image_path)\n",
    "    with open(input_path, mode=\"rb\") as test_data:\n",
    "        results = predictor.detect_image(project_id, publish_iteration_name, test_data)\n",
    "\n",
    "    for prediction in results.predictions:\n",
    "        if((prediction.probability * 100) >= 50) and (prediction.probability * 100) >= confidence :\n",
    "            confidence = prediction.probability * 100\n",
    "            aadhar_card_frame = input_path\n",
    "            break\n",
    "        \n",
    "    \n",
    "        "
   ]
  },
  {
   "cell_type": "code",
   "execution_count": null,
   "id": "6faf075d",
   "metadata": {},
   "outputs": [],
   "source": []
  },
  {
   "cell_type": "code",
   "execution_count": 7,
   "id": "5356286e",
   "metadata": {},
   "outputs": [],
   "source": [
    "import asyncio\n",
    "import io\n",
    "import glob\n",
    "import sys\n",
    "import requests\n",
    "from urllib.parse import urlparse\n",
    "from io import BytesIO\n",
    "# To install this module, run:\n",
    "# python -m pip install Pillow\n",
    "from PIL import Image, ImageDraw\n",
    "from azure.cognitiveservices.vision.face import FaceClient\n",
    "from msrest.authentication import CognitiveServicesCredentials\n",
    "from azure.cognitiveservices.vision.face.models import TrainingStatusType, Person\n",
    "\n",
    "KEY = \"471b6c10f789468c8424da69ac81c8dd\"\n",
    "\n",
    "ENDPOINT = \"https://proof-verification-sk.cognitiveservices.azure.com/\"\n",
    "\n",
    "face_client = FaceClient(ENDPOINT, CognitiveServicesCredentials(KEY))"
   ]
  },
  {
   "cell_type": "code",
   "execution_count": null,
   "id": "6b3be166",
   "metadata": {},
   "outputs": [],
   "source": []
  },
  {
   "cell_type": "code",
   "execution_count": 8,
   "id": "2be27854",
   "metadata": {},
   "outputs": [
    {
     "name": "stdout",
     "output_type": "stream",
     "text": [
      "1 face(s) detected from image selfie.\n",
      "1 face(s) detected from image aadhar_card_frame.\n",
      "VERIFIED!\n"
     ]
    }
   ],
   "source": [
    "if aadhar_card_frame != \"none\":\n",
    "    \n",
    "    image = open(r\"C:\\Users\\M1061065\\OneDrive - Mindtree Limited\\Documents\\autenticate_vdo\\data\\frame0.5.jpg\", 'rb')\n",
    "    detected_faces1 = face_client.face.detect_with_stream(image, detection_model='detection_03')\n",
    "    source_image1_id = detected_faces1[0].face_id\n",
    "    print('{} face(s) detected from image {}.'.format(len(detected_faces1), \"selfie\" ))\n",
    "    \n",
    "    image1 = open(aadhar_card_frame, 'rb')\n",
    "    detected_faces2 = face_client.face.detect_with_stream(image1, detection_model='detection_03')\n",
    "    source_image2_id = detected_faces2[0].face_id\n",
    "    print('{} face(s) detected from image {}.'.format(len(detected_faces2), \"aadhar_card_frame\"))\n",
    "    \n",
    "    verify_result_same = face_client.face.verify_face_to_face(source_image1_id, source_image2_id)\n",
    "    if verify_result_same.confidence > 0.25:\n",
    "        print(\"VERIFIED!\")\n",
    "    else:\n",
    "        print(\"MISMATCH\")\n",
    "else:\n",
    "    print(\"No aadhar card found!\")"
   ]
  },
  {
   "cell_type": "code",
   "execution_count": 9,
   "id": "b242485c",
   "metadata": {},
   "outputs": [
    {
     "data": {
      "text/plain": [
       "0.27701"
      ]
     },
     "execution_count": 9,
     "metadata": {},
     "output_type": "execute_result"
    }
   ],
   "source": [
    "verify_result_same.confidence"
   ]
  },
  {
   "cell_type": "code",
   "execution_count": null,
   "id": "057083fb",
   "metadata": {},
   "outputs": [],
   "source": [
    "def getRectangle(faceDictionary):\n",
    "    rect = faceDictionary.face_rectangle\n",
    "    left = rect.left\n",
    "    top = rect.top\n",
    "    right = left + rect.width\n",
    "    bottom = top + rect.height\n",
    "    \n",
    "    return ((left, top), (right, bottom))\n",
    "url = r\"C:\\Users\\M1061065\\OneDrive - Mindtree Limited\\Documents\\autenticate_vdo\\test_img\\false_aadhar_3.jpg\"\n",
    "imag = Image.open(url)\n",
    "print('Drawing rectangle around face... see popup for results.')\n",
    "draw = ImageDraw.Draw(imag)\n",
    "for face in detected_faces2:\n",
    "    draw.rectangle(getRectangle(face), outline='red')\n",
    "imag"
   ]
  },
  {
   "cell_type": "code",
   "execution_count": null,
   "id": "01c674b2",
   "metadata": {},
   "outputs": [],
   "source": [
    "verify_result_same.confidence "
   ]
  },
  {
   "cell_type": "code",
   "execution_count": null,
   "id": "e25d5e1a",
   "metadata": {},
   "outputs": [],
   "source": []
  },
  {
   "cell_type": "code",
   "execution_count": null,
   "id": "d261770a",
   "metadata": {},
   "outputs": [],
   "source": []
  }
 ],
 "metadata": {
  "kernelspec": {
   "display_name": "Python 3",
   "language": "python",
   "name": "python3"
  },
  "language_info": {
   "codemirror_mode": {
    "name": "ipython",
    "version": 3
   },
   "file_extension": ".py",
   "mimetype": "text/x-python",
   "name": "python",
   "nbconvert_exporter": "python",
   "pygments_lexer": "ipython3",
   "version": "3.6.13"
  }
 },
 "nbformat": 4,
 "nbformat_minor": 5
}
