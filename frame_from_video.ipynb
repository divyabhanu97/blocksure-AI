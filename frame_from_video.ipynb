{
 "cells": [
  {
   "cell_type": "code",
   "execution_count": 1,
   "id": "01cdbd2b",
   "metadata": {},
   "outputs": [],
   "source": [
    "import cv2\n",
    "import os\n",
    "from PIL import Image"
   ]
  },
  {
   "cell_type": "code",
   "execution_count": 2,
   "id": "8c570421",
   "metadata": {},
   "outputs": [],
   "source": [
    "cam_url = r\"C:\\Users\\M1061065\\OneDrive - Mindtree Limited\\Pictures\\Camera Roll\\WIN_20220104_16_19_32_Pro.mp4\"\n"
   ]
  },
  {
   "cell_type": "code",
   "execution_count": null,
   "id": "77299fb6",
   "metadata": {},
   "outputs": [],
   "source": [
    "count = 0\n",
    "vidcap = cv2.VideoCapture(cam_url)\n",
    "success,image = vidcap.read()\n",
    "success = True\n",
    "fps = vidcap.get(cv2.CAP_PROP_FPS)\n",
    "frame_count = int(vidcap.get(cv2.CAP_PROP_FRAME_COUNT))\n",
    "duration = frame_count/fps\n",
    "while success:\n",
    "    vidcap.set(cv2.CAP_PROP_POS_MSEC,(count*1000))    # added this line \n",
    "    success,image = vidcap.read()\n",
    "    print ('Read a new frame: ', success)\n",
    "    print(count)\n",
    "    image = Image.fromarray(image.astype('uint8'), 'RGB')\n",
    "    image.save(\"data/frame\"+str(count)+\".jpg\")     # save frame as JPEG file\n",
    "    count = count + 0.5\n",
    "    if(count > (duration-0.5)):\n",
    "        success = False"
   ]
  }
 ],
 "metadata": {
  "kernelspec": {
   "display_name": "Python 3",
   "language": "python",
   "name": "python3"
  },
  "language_info": {
   "codemirror_mode": {
    "name": "ipython",
    "version": 3
   },
   "file_extension": ".py",
   "mimetype": "text/x-python",
   "name": "python",
   "nbconvert_exporter": "python",
   "pygments_lexer": "ipython3",
   "version": "3.6.13"
  }
 },
 "nbformat": 4,
 "nbformat_minor": 5
}
