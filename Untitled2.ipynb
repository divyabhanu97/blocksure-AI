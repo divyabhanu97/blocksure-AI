{
 "cells": [
  {
   "cell_type": "code",
   "execution_count": 1,
   "id": "abe8822e",
   "metadata": {},
   "outputs": [],
   "source": [
    "from azure.cognitiveservices.vision.customvision.training import CustomVisionTrainingClient\n",
    "from azure.cognitiveservices.vision.customvision.prediction import CustomVisionPredictionClient\n",
    "from azure.cognitiveservices.vision.customvision.training.models import ImageFileCreateBatch, ImageFileCreateEntry, Region\n",
    "from msrest.authentication import ApiKeyCredentials\n",
    "import os, time, uuid"
   ]
  },
  {
   "cell_type": "code",
   "execution_count": 2,
   "id": "b445675e",
   "metadata": {},
   "outputs": [],
   "source": [
    "# Replace with valid values\n",
    "ENDPOINT = \"https://centralindia.api.cognitive.microsoft.com/\"\n",
    "training_key = \"c5a175b7f450425ba8df3e4e22c2ec6b\"\n",
    "prediction_key = \"e6ecd0955b824244a3d6483e5c7e1097\"\n",
    "prediction_resource_id = \"/subscriptions/0d16ec4a-eebf-44fa-8f1d-7803493f8199/resourceGroups/blockchain-group/providers/Microsoft.CognitiveServices/accounts/custom_vision_sk\""
   ]
  },
  {
   "cell_type": "code",
   "execution_count": 3,
   "id": "072e17fe",
   "metadata": {},
   "outputs": [],
   "source": [
    "credentials = ApiKeyCredentials(in_headers={\"Training-key\": training_key})\n",
    "trainer = CustomVisionTrainingClient(ENDPOINT, credentials)\n",
    "prediction_credentials = ApiKeyCredentials(in_headers={\"Prediction-key\": prediction_key})\n",
    "predictor = CustomVisionPredictionClient(ENDPOINT, prediction_credentials)"
   ]
  },
  {
   "cell_type": "code",
   "execution_count": 7,
   "id": "f2d4c599",
   "metadata": {},
   "outputs": [
    {
     "name": "stdout",
     "output_type": "stream",
     "text": [
      "\temblem: 99.92% bbox.left = 0.29, bbox.top = 0.17, bbox.width = 0.04, bbox.height = 0.09\n",
      "\tgoi: 99.51% bbox.left = 0.37, bbox.top = 0.18, bbox.width = 0.27, bbox.height = 0.09\n"
     ]
    }
   ],
   "source": [
    "publish_iteration_name = \"Iteration1\"\n",
    "tag =[]\n",
    "project_id = \"c61fcd17-ee71-4e68-8ea4-a47b73cdc7f2\"\n",
    "\n",
    "# Now there is a trained endpoint that can be used to make a prediction\n",
    "\n",
    "# Open the sample image and get back the prediction results.\n",
    "with open(r\"C:\\Users\\M1061065\\OneDrive - Mindtree Limited\\Pictures\\Camera Roll\\WIN_20220104_14_35_56_Pro.jpg\", mode=\"rb\") as test_data:\n",
    "    results = predictor.detect_image(project_id, publish_iteration_name, test_data)\n",
    "\n",
    "# Display the results.    \n",
    "for prediction in results.predictions:\n",
    "    if (prediction.probability * 100) > 50 :\n",
    "        tag.append(prediction.tag_name)\n",
    "    \n",
    "    print(\"\\t\" + prediction.tag_name + \": {0:.2f}% bbox.left = {1:.2f}, bbox.top = {2:.2f}, bbox.width = {3:.2f}, bbox.height = {4:.2f}\".format(prediction.probability * 100, prediction.bounding_box.left, prediction.bounding_box.top, prediction.bounding_box.width, prediction.bounding_box.height))"
   ]
  },
  {
   "cell_type": "code",
   "execution_count": 14,
   "id": "2f3bc9d3",
   "metadata": {},
   "outputs": [
    {
     "name": "stdout",
     "output_type": "stream",
     "text": [
      "ok\n"
     ]
    }
   ],
   "source": [
    "if 'emblem' in tag and 'goi' in tag:\n",
    "    print(\"ok\")"
   ]
  },
  {
   "cell_type": "code",
   "execution_count": null,
   "id": "e6f69c45",
   "metadata": {},
   "outputs": [],
   "source": []
  },
  {
   "cell_type": "code",
   "execution_count": 9,
   "id": "9a6e744e",
   "metadata": {},
   "outputs": [],
   "source": [
    "# x = left[0] * img.shape[1]\n",
    "# y = top[0] * img.shape[0]\n",
    "# w = width[0] * img.shape[1]\n",
    "# h = height[0] * img.shape[0]\n",
    "# print(x,y,w,h)"
   ]
  },
  {
   "cell_type": "code",
   "execution_count": 8,
   "id": "d3a28de0",
   "metadata": {},
   "outputs": [],
   "source": [
    "# import cv2\n",
    "\n",
    "# cv2.rectangle(img, (int(x), int(y)), (int(x+w), int(y+h)), (0, 0, 255), 2)\n",
    "# plt.imshow(img)"
   ]
  },
  {
   "cell_type": "code",
   "execution_count": null,
   "id": "a2a690ca",
   "metadata": {},
   "outputs": [],
   "source": []
  }
 ],
 "metadata": {
  "kernelspec": {
   "display_name": "Python 3",
   "language": "python",
   "name": "python3"
  },
  "language_info": {
   "codemirror_mode": {
    "name": "ipython",
    "version": 3
   },
   "file_extension": ".py",
   "mimetype": "text/x-python",
   "name": "python",
   "nbconvert_exporter": "python",
   "pygments_lexer": "ipython3",
   "version": "3.6.13"
  }
 },
 "nbformat": 4,
 "nbformat_minor": 5
}
