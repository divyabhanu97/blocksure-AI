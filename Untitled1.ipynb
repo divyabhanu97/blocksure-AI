{
 "cells": [
  {
   "cell_type": "code",
   "execution_count": 2,
   "id": "b080a8a3",
   "metadata": {},
   "outputs": [],
   "source": [
    "import cv2 \n",
    "from pyzbar.pyzbar import decode"
   ]
  },
  {
   "cell_type": "code",
   "execution_count": null,
   "id": "6deade27",
   "metadata": {},
   "outputs": [],
   "source": [
    "cap = cv2.VideoCapture(0)\n",
    "cap.set(3,640)\n",
    "cap.set(4,480)\n",
    "\n",
    "while True:\n",
    "    sucess, img = cap.read()\n",
    "    for barcode in decode(img):\n",
    "        print(barcode.data)\n",
    "        myData = barcode.data.decode('utf-8')\n",
    "        print(myData)\n",
    "    cv2.imshow('Result',img)\n",
    "    cv2.waitKey"
   ]
  },
  {
   "cell_type": "code",
   "execution_count": null,
   "id": "e56dacc6",
   "metadata": {},
   "outputs": [],
   "source": []
  }
 ],
 "metadata": {
  "kernelspec": {
   "display_name": "Python 3",
   "language": "python",
   "name": "python3"
  },
  "language_info": {
   "codemirror_mode": {
    "name": "ipython",
    "version": 3
   },
   "file_extension": ".py",
   "mimetype": "text/x-python",
   "name": "python",
   "nbconvert_exporter": "python",
   "pygments_lexer": "ipython3",
   "version": "3.6.13"
  }
 },
 "nbformat": 4,
 "nbformat_minor": 5
}
